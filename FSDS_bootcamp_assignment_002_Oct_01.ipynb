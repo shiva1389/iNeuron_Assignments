{
 "cells": [
  {
   "cell_type": "markdown",
   "metadata": {},
   "source": [
    "# 1. What is indentation error? Why indentation is important? Give one simple example?"
   ]
  },
  {
   "cell_type": "markdown",
   "metadata": {},
   "source": [
    "Indentation error occurs when the statements are not aligned properly in a code block. It is important as it allows python to identify the set of commands that belong together.\n",
    "\n",
    "For example in the below program, the statements within the if block and statements within the else block should be indented to show that those statements belong in the same code block (if & else respectively) and should be executed together."
   ]
  },
  {
   "cell_type": "code",
   "execution_count": 5,
   "metadata": {},
   "outputs": [
    {
     "name": "stdout",
     "output_type": "stream",
     "text": [
      "Take Umbrella\n",
      "Since it's raining\n"
     ]
    }
   ],
   "source": [
    "is_raining = True\n",
    "if is_raining: # this statement should be aligned with the previous statement\n",
    "    '''\n",
    "    The statements within this block should be indented to indicate\n",
    "    that they belong to the IF condition block and should be executed together\n",
    "    '''\n",
    "    print(\"Take Umbrella\") #\n",
    "    print(\"Since it's raining\")\n",
    "else: # this statement should be aligned with the previous IF statement\n",
    "    '''\n",
    "    The statements within this block should be indented to indicate\n",
    "    that they belong to the ELSE block and should be executed together\n",
    "    '''\n",
    "    print(\"Don't take Umbrella\")\n",
    "    print(\"Since it's not raining\")"
   ]
  },
  {
   "cell_type": "markdown",
   "metadata": {},
   "source": [
    "# 2. Correct the following code and write the comment where you made the correction?\n",
    "\n",
    "  ```python\n",
    "  class_started = bool(input(\"Hey friend, is class started?: [0-False/1-True]\"))\n",
    "\n",
    "  if class_started:\n",
    "      print(\"Since class started...\")\n",
    "      print(\"Lets concentrate\")\n",
    "  else:\n",
    "      print(\"Since class is not started...\")\n",
    "      print(\"let's revise\")    \n",
    "  ```\n",
    "\n",
    "  **HINT:** Refer your data type conversion class"
   ]
  },
  {
   "cell_type": "code",
   "execution_count": 8,
   "metadata": {},
   "outputs": [
    {
     "name": "stdout",
     "output_type": "stream",
     "text": [
      "Hey friend, is class started?: [0-False/1-True]0\n",
      "Since class is not started...\n",
      "let's revise\n"
     ]
    }
   ],
   "source": [
    "class_started = bool(int(input(\"Hey friend, is class started?: [0-False/1-True]\"))) # Correction 1:- Added int() command after bool\n",
    "\n",
    "if class_started:\n",
    "    print(\"Since class started...\") # Correction 2:- Gave proper indentation to the commands within IF block\n",
    "    print(\"Lets concentrate\")\n",
    "else:\n",
    "    print(\"Since class is not started...\") # Correction 3:- Gave proper indentation to the commands within ELSE block\n",
    "    print(\"let's revise\")  "
   ]
  },
  {
   "cell_type": "markdown",
   "metadata": {},
   "source": [
    "# 3. Use if else condition to verify that dataype of `input()` method in python is always string."
   ]
  },
  {
   "cell_type": "code",
   "execution_count": 30,
   "metadata": {},
   "outputs": [
    {
     "name": "stdout",
     "output_type": "stream",
     "text": [
      "Enter anything:@gsrdf8.5 99 -={}'\n",
      "It is a string\n"
     ]
    }
   ],
   "source": [
    "x = type(input(\"Enter anything:\")) == str\n",
    "\n",
    "if x:\n",
    "    print(\"It is a string\")\n",
    "else:\n",
    "    print(\"Not a string\")"
   ]
  },
  {
   "cell_type": "markdown",
   "metadata": {},
   "source": [
    "# 4. Take 3 variables and assign integer values to them. Find the largest variable, by only using the if and else conditions.\n"
   ]
  },
  {
   "cell_type": "code",
   "execution_count": 17,
   "metadata": {},
   "outputs": [
    {
     "name": "stdout",
     "output_type": "stream",
     "text": [
      "Input value 1: 1.5\n",
      "Input value 2: 65.5\n",
      "Input value 3: 99.0099\n",
      "99.0099 is the largest\n"
     ]
    }
   ],
   "source": [
    "a,b,c = float(input(\"Input value 1: \")),float(input(\"Input value 2: \")),float(input(\"Input value 3: \"))\n",
    "\n",
    "if (a > b):\n",
    "    if (a > c):\n",
    "        print(f\"{a} is the largest\")\n",
    "    else:\n",
    "        print(f\"{c} is the largest\")\n",
    "else:\n",
    "    if (b > c):\n",
    "        print(f\"{b} is the largest\")\n",
    "    else:\n",
    "        print(f\"{c} is the largest\")"
   ]
  },
  {
   "cell_type": "markdown",
   "metadata": {},
   "source": [
    "# 5. What would be the solution?\n",
    "    1. True\n",
    "    2. False\n",
    "    \n",
    "    ```python\n",
    "    a = 6\n",
    "    b = 10\n",
    "    print( not ( not a == 10 or not b == 10) )\n",
    "    ```"
   ]
  },
  {
   "cell_type": "markdown",
   "metadata": {},
   "source": [
    "***False***"
   ]
  },
  {
   "cell_type": "markdown",
   "metadata": {},
   "source": [
    "6. Find the answer as well as find out the reason behind the result? -\n",
    "    - case 1:\n",
    "        ```python\n",
    "        A = 5.0\n",
    "        B = 10/2\n",
    "        print(A is B)\n",
    "        ```\n",
    "    - case 2:\n",
    "        ```python\n",
    "        A = 5.0\n",
    "        B = int(10/2)\n",
    "        print(A is B)\n",
    "        ```\n",
    "    - case 3:\n",
    "        ```python\n",
    "        A = 5.0\n",
    "        B = float(10/2)\n",
    "        print(A is B)\n",
    "        ```"
   ]
  },
  {
   "cell_type": "markdown",
   "metadata": {},
   "source": [
    "- *Case 1*\n",
    "    > The result will be **True**. A points to a float object(5.0) and B also points to the same float object (5.0) which is the result of the arithmatic operation (/). Since both A & B point to same object (they have same addresses) hence the result is **True**\n",
    "\n",
    "- *Case 2*\n",
    "    > The result will be **False**. A points to a float object(5.0) but B points to the integer object (5) which is the result of converting quotient of division operation to integer data type. Since A & B point to differnet objects (they have different addresses) hence the result is **False**\n",
    "    \n",
    "- *Case 3*\n",
    "    > The result will be **True**. A points to a float object(5.0) and B also points to the same float object (5.0) which is the result of the arithmatic operation (/) which is then converted to float data type (unnecessarily). Since both A & B point to same object (they have same addresses) hence the result is **True**"
   ]
  },
  {
   "cell_type": "markdown",
   "metadata": {
    "id": "a_4kbBVWNY-4"
   },
   "source": [
    "### Try to understand the following examples and answer the question based on it - \n",
    "    \n",
    "**Arithmatic Operators**\n",
    "\n",
    "|Operation|Meaning|\n",
    "|:-:|:-:|\n",
    "| **+** |addition|\n",
    "| **-** |subtraction|\n",
    "| **\\*** |multiplication|\n",
    "| **/** |true division|\n",
    "| **//** |integer division|\n",
    "| **%** |the modulo operator|\n",
    "\n",
    "\n",
    "Here `+`, `-`, `*`, `/` are regular arithmatic operators. Lets look at the `//` and `%` operators\n",
    "\n",
    "Usecase or examples - \n",
    "    \n",
    "```python\n",
    "var_a = 5\n",
    "var_b = 25\n",
    "integer_division = var_b // var_a\n",
    "print(f\"integer division: {var_b}/{var_a}={integer_division}\")\n",
    "```\n",
    "\n",
    "OUTPUT: integer division: 25/5=5\n",
    "\n",
    "```python\n",
    "var_a = 3\n",
    "var_b = 25\n",
    "integer_division = var_b // var_a\n",
    "print(f\"integer division: {var_b}/{var_a}={integer_division}\")\n",
    "```\n",
    "\n",
    "OUTPUT: integer division: 25/3=8\n",
    "\n",
    "```python\n",
    "var_a = 5\n",
    "var_b = 25\n",
    "remainder = var_b % var_a\n",
    "print(f\"remainder: {var_b}/{var_a} is {remainder}\")\n",
    "```\n",
    "\n",
    "OUTPUT: remainder: 25/5 is 0\n",
    "\n",
    "```python\n",
    "var_a = 3\n",
    "var_b = 25\n",
    "remainder = var_b % var_a\n",
    "print(f\"remainder: {var_b}/{var_a} is {remainder}\")\n",
    "```\n",
    "\n",
    "OUTPUT: remainder: 25/3 is 1\n",
    "\n"
   ]
  },
  {
   "cell_type": "markdown",
   "metadata": {
    "id": "XumyqFp6MHnv"
   },
   "source": [
    "# 7. Write a program that asks the user to enter a number. You should print out a message to the user, either “That number is divisible by either 3 or 5”, or “That number is not divisible by either 3 or 5”. Be sure to consider the data type of the input you are taking in from the user. Use a single if/else block to solve this problem."
   ]
  },
  {
   "cell_type": "code",
   "execution_count": 36,
   "metadata": {},
   "outputs": [
    {
     "name": "stdout",
     "output_type": "stream",
     "text": [
      "Enter a number:23\n",
      "That number is not divisible by either 3 or 5\n"
     ]
    }
   ],
   "source": [
    "x = int(input(\"Enter a number:\"))\n",
    "\n",
    "if ((x%3) and (x%5)) != 0:\n",
    "    print(\"That number is not divisible by either 3 or 5\")\n",
    "else:\n",
    "    print(\"That number is divisible by either 3 or 5\")\n",
    "    "
   ]
  },
  {
   "cell_type": "markdown",
   "metadata": {},
   "source": [
    "# 8. Take user input for length and width. Then calculate the area of rectangle. Also print as per length and width whether its a square of rectangle."
   ]
  },
  {
   "cell_type": "code",
   "execution_count": 40,
   "metadata": {},
   "outputs": [
    {
     "name": "stdout",
     "output_type": "stream",
     "text": [
      "Enter a value for length: 15.7\n",
      "Enter a value for width: 7.15\n",
      "Entered dimensions form a rectangle of area 112.255\n"
     ]
    }
   ],
   "source": [
    "length = float(input(\"Enter a value for length: \"))\n",
    "width = float(input(\"Enter a value for width: \"))\n",
    "\n",
    "if length == width:\n",
    "    print(f\"Entered dimensions form a square of area {length*width}\")\n",
    "else:\n",
    "    print(f\"Entered dimensions form a rectangle of area {length*width}\")"
   ]
  },
  {
   "cell_type": "markdown",
   "metadata": {},
   "source": [
    "# 9. Take two variable radius_1 and radius_2 and calculate the area of circle_1 and circle_2. Also print which circle has large area. If area is equal then print area is equal."
   ]
  },
  {
   "cell_type": "code",
   "execution_count": 43,
   "metadata": {},
   "outputs": [
    {
     "name": "stdout",
     "output_type": "stream",
     "text": [
      "Enter radius of first circle: 6\n",
      "Enter radius of second circle: 6\n",
      "Both circles have same area of 113.09724\n"
     ]
    }
   ],
   "source": [
    "rad_1,rad_2 = float(input(\"Enter radius of first circle: \")),float(input(\"Enter radius of second circle: \"))\n",
    "pi = 3.14159\n",
    "\n",
    "if rad_1 != rad_2:\n",
    "    if rad_1 > rad_2:\n",
    "        print(f\"First circle of radius {pi*(rad_1**2)} is larger than second circle of radius {pi*(rad_2**2)}\")\n",
    "    else:\n",
    "        print(f\"First circle of radius {pi*(rad_1**2)} is smaller than second circle of radius {pi*(rad_2**2)}\")\n",
    "else:\n",
    "    print(f\"Both circles have same area of {pi*(rad_1**2)}\")"
   ]
  },
  {
   "cell_type": "markdown",
   "metadata": {},
   "source": [
    "# 10. Check whether a year is leap year or not. Use nested if...else to solve this problem. A leap year is exactly divisible by 4 except for century years (years ending with 00). The century year is a leap year only if it is perfectly divisible by 400."
   ]
  },
  {
   "cell_type": "code",
   "execution_count": 47,
   "metadata": {},
   "outputs": [
    {
     "name": "stdout",
     "output_type": "stream",
     "text": [
      "Enter any year: 2020\n",
      "2020 is a leap year\n"
     ]
    }
   ],
   "source": [
    "year = int(input(\"Enter any year: \"))\n",
    "\n",
    "if not year % 100 == 0:\n",
    "    if year % 4 == 0:\n",
    "        print(f\"{year} is a leap year\")\n",
    "    else:\n",
    "        print(f\"{year} is not a leap year\")\n",
    "else:\n",
    "    if year % 400 == 0:\n",
    "        print(f\"{year} is a leap year\")\n",
    "    else:\n",
    "        print(f\"{year} is not a leap year\")\n",
    "        "
   ]
  }
 ],
 "metadata": {
  "colab": {
   "collapsed_sections": [],
   "provenance": []
  },
  "kernelspec": {
   "display_name": "Python 3 (ipykernel)",
   "language": "python",
   "name": "python3"
  },
  "language_info": {
   "codemirror_mode": {
    "name": "ipython",
    "version": 3
   },
   "file_extension": ".py",
   "mimetype": "text/x-python",
   "name": "python",
   "nbconvert_exporter": "python",
   "pygments_lexer": "ipython3",
   "version": "3.8.13"
  }
 },
 "nbformat": 4,
 "nbformat_minor": 1
}
