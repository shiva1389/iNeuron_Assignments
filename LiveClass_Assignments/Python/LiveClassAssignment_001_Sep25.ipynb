{
 "cells": [
  {
   "cell_type": "markdown",
   "id": "f9eef220",
   "metadata": {},
   "source": [
    "__1. Find out all the types of error that we have encountered in our lecture and why? Include examples.__"
   ]
  },
  {
   "cell_type": "markdown",
   "id": "bf6dd5ab",
   "metadata": {},
   "source": [
    "We have encountered following errors so far:  \n",
    "\n",
    "> **NameError**:\n",
    "This occurs when we try to use any variable before defining it.\n",
    " \n",
    "\n",
    ">**SyntaxError**:\n",
    "This occurs when the syntax of any statement is wrong like when forgetting a bracket in print statement\n",
    "\n",
    "\n",
    ">**ValueError**:\n",
    "This occurs when we provide incorrect values as input to functions\n",
    "\n",
    "\n",
    ">**TypeError**:\n",
    "This occurs when we try to run incorrect statements\n",
    "\n",
    "Additionally I have encountered following error:\n",
    "\n",
    ">**ZeroDivisionError**: Occurs when we try to divide by 0"
   ]
  },
  {
   "cell_type": "code",
   "execution_count": 8,
   "id": "b2112900",
   "metadata": {},
   "outputs": [
    {
     "ename": "NameError",
     "evalue": "name 'Name' is not defined",
     "output_type": "error",
     "traceback": [
      "\u001b[1;31m---------------------------------------------------------------------------\u001b[0m",
      "\u001b[1;31mNameError\u001b[0m                                 Traceback (most recent call last)",
      "Input \u001b[1;32mIn [8]\u001b[0m, in \u001b[0;36m<cell line: 4>\u001b[1;34m()\u001b[0m\n\u001b[0;32m      1\u001b[0m \u001b[38;5;66;03m# NameError\u001b[39;00m\n\u001b[0;32m      3\u001b[0m name \u001b[38;5;241m=\u001b[39m \u001b[38;5;124m'\u001b[39m\u001b[38;5;124mShiva\u001b[39m\u001b[38;5;124m'\u001b[39m\n\u001b[1;32m----> 4\u001b[0m \u001b[38;5;28mprint\u001b[39m(\u001b[43mName\u001b[49m)\n",
      "\u001b[1;31mNameError\u001b[0m: name 'Name' is not defined"
     ]
    }
   ],
   "source": [
    "# NameError\n",
    "\n",
    "name = 'Shiva'\n",
    "print(Name)"
   ]
  },
  {
   "cell_type": "code",
   "execution_count": 12,
   "id": "a4afdb59",
   "metadata": {},
   "outputs": [
    {
     "ename": "SyntaxError",
     "evalue": "EOL while scanning string literal (3546424649.py, line 3)",
     "output_type": "error",
     "traceback": [
      "\u001b[1;36m  Input \u001b[1;32mIn [12]\u001b[1;36m\u001b[0m\n\u001b[1;33m    print('Hi\u001b[0m\n\u001b[1;37m             ^\u001b[0m\n\u001b[1;31mSyntaxError\u001b[0m\u001b[1;31m:\u001b[0m EOL while scanning string literal\n"
     ]
    }
   ],
   "source": [
    "# SyntaxError\n",
    "\n",
    "print('Hi\n",
    "      ')"
   ]
  },
  {
   "cell_type": "code",
   "execution_count": 13,
   "id": "9008ce43",
   "metadata": {},
   "outputs": [
    {
     "ename": "ValueError",
     "evalue": "invalid literal for int() with base 10: 'Hi'",
     "output_type": "error",
     "traceback": [
      "\u001b[1;31m---------------------------------------------------------------------------\u001b[0m",
      "\u001b[1;31mValueError\u001b[0m                                Traceback (most recent call last)",
      "Input \u001b[1;32mIn [13]\u001b[0m, in \u001b[0;36m<cell line: 3>\u001b[1;34m()\u001b[0m\n\u001b[0;32m      1\u001b[0m \u001b[38;5;66;03m# ValueError\u001b[39;00m\n\u001b[1;32m----> 3\u001b[0m \u001b[38;5;28;43mint\u001b[39;49m\u001b[43m(\u001b[49m\u001b[38;5;124;43m\"\u001b[39;49m\u001b[38;5;124;43mHi\u001b[39;49m\u001b[38;5;124;43m\"\u001b[39;49m\u001b[43m)\u001b[49m\n",
      "\u001b[1;31mValueError\u001b[0m: invalid literal for int() with base 10: 'Hi'"
     ]
    }
   ],
   "source": [
    "# ValueError\n",
    "\n",
    "int(\"Hi\")"
   ]
  },
  {
   "cell_type": "code",
   "execution_count": 15,
   "id": "7dcc494d",
   "metadata": {},
   "outputs": [
    {
     "ename": "TypeError",
     "evalue": "type() takes 1 or 3 arguments",
     "output_type": "error",
     "traceback": [
      "\u001b[1;31m---------------------------------------------------------------------------\u001b[0m",
      "\u001b[1;31mTypeError\u001b[0m                                 Traceback (most recent call last)",
      "Input \u001b[1;32mIn [15]\u001b[0m, in \u001b[0;36m<cell line: 3>\u001b[1;34m()\u001b[0m\n\u001b[0;32m      1\u001b[0m \u001b[38;5;66;03m# TypeError\u001b[39;00m\n\u001b[1;32m----> 3\u001b[0m \u001b[38;5;28;43mtype\u001b[39;49m\u001b[43m(\u001b[49m\u001b[38;5;241;43m1\u001b[39;49m\u001b[43m,\u001b[49m\u001b[38;5;241;43m3\u001b[39;49m\u001b[43m)\u001b[49m\n",
      "\u001b[1;31mTypeError\u001b[0m: type() takes 1 or 3 arguments"
     ]
    }
   ],
   "source": [
    "# TypeError\n",
    "\n",
    "type(1,3)"
   ]
  },
  {
   "cell_type": "code",
   "execution_count": 16,
   "id": "d3a95a50",
   "metadata": {},
   "outputs": [
    {
     "ename": "ZeroDivisionError",
     "evalue": "division by zero",
     "output_type": "error",
     "traceback": [
      "\u001b[1;31m---------------------------------------------------------------------------\u001b[0m",
      "\u001b[1;31mZeroDivisionError\u001b[0m                         Traceback (most recent call last)",
      "Input \u001b[1;32mIn [16]\u001b[0m, in \u001b[0;36m<cell line: 1>\u001b[1;34m()\u001b[0m\n\u001b[1;32m----> 1\u001b[0m \u001b[38;5;241;43m22\u001b[39;49m\u001b[38;5;241;43m/\u001b[39;49m\u001b[38;5;241;43m0\u001b[39;49m\n",
      "\u001b[1;31mZeroDivisionError\u001b[0m: division by zero"
     ]
    }
   ],
   "source": [
    "22/0"
   ]
  },
  {
   "cell_type": "markdown",
   "id": "d077f594",
   "metadata": {},
   "source": [
    "__2. Take input A & B and print their sum, mul, div and square of the numbers.__"
   ]
  },
  {
   "cell_type": "code",
   "execution_count": 1,
   "id": "db758a5a",
   "metadata": {},
   "outputs": [
    {
     "name": "stdout",
     "output_type": "stream",
     "text": [
      "Enter value for A:5\n",
      "Enter value for B:10\n",
      "A + B: 15\n",
      "A * B: 50\n",
      "A / B: 0.5\n",
      "Asquare: 25, Bsquare: 100\n"
     ]
    }
   ],
   "source": [
    "A,B = int(input(\"Enter value for A:\")),int(input(\"Enter value for B:\"))\n",
    "\n",
    "print(f\"A + B: {A+B}\")\n",
    "print(f\"A * B: {A*B}\")\n",
    "print(f\"A / B: {A/B}\")\n",
    "print(f\"Asquare: {A**2}, Bsquare: {B**2}\")"
   ]
  },
  {
   "cell_type": "markdown",
   "id": "39a67a1d",
   "metadata": {},
   "source": [
    "__3. How many reserve keywords are there and why should we not use them as a variable name?__"
   ]
  },
  {
   "cell_type": "markdown",
   "id": "7cd835fa",
   "metadata": {},
   "source": [
    "Python 3 has 33 reserved keywords. We should not use keywords as variable names because if we do so then the original functionality of the keyword is replaced. Thus the keyword will no longer function as it is supposed to and throw TypeError."
   ]
  },
  {
   "cell_type": "markdown",
   "id": "796e741d",
   "metadata": {},
   "source": [
    "__4. Create email IDs with user inputs in the following format - \n",
    "lastname.firstname@gmail.com__"
   ]
  },
  {
   "cell_type": "code",
   "execution_count": 19,
   "id": "d617e94f",
   "metadata": {},
   "outputs": [
    {
     "name": "stdout",
     "output_type": "stream",
     "text": [
      "Enter your First Name: Shiva\n",
      "Enter your last name: Prasad\n",
      "Your email ID is ShivaPrasad@gmail.com\n"
     ]
    }
   ],
   "source": [
    "firstname = input('Enter your First Name: ')\n",
    "lastname = input ('Enter your last name: ')\n",
    "\n",
    "print(f'Your email ID is {firstname+lastname}@gmail.com')"
   ]
  },
  {
   "cell_type": "markdown",
   "id": "9aa11fd5",
   "metadata": {},
   "source": [
    "__5. Try to print the following lines  \n",
    "        - Hi I'm Sunny  \n",
    "        - My address is 22/3  \n",
    "        - I earn 20__$ daily"
   ]
  },
  {
   "cell_type": "code",
   "execution_count": 3,
   "id": "624eeaa8",
   "metadata": {},
   "outputs": [
    {
     "name": "stdout",
     "output_type": "stream",
     "text": [
      "\n",
      "Hi I'm Parth.\n",
      "My address is 22/3.\n",
      "I earn 20$ daily.\n",
      "\n"
     ]
    }
   ],
   "source": [
    "print(\"\"\"\n",
    "Hi I'm Parth.\n",
    "My address is 22/3.\n",
    "I earn 20$ daily.\n",
    "\"\"\")"
   ]
  },
  {
   "cell_type": "markdown",
   "id": "50f9c72d",
   "metadata": {},
   "source": [
    "__6. Take user input to fill a form for your college and create their email IDs (name, address, date of birth etc.) and print their email IDs.__"
   ]
  },
  {
   "cell_type": "code",
   "execution_count": 18,
   "id": "1af5168c",
   "metadata": {},
   "outputs": [
    {
     "name": "stdout",
     "output_type": "stream",
     "text": [
      "Enter your Name: Shiva\n",
      "Enter your Location: blr\n",
      "Enter your Year of Birth: 1991\n",
      "Your email ID is Shiva_1991.blr@gmail.com\n"
     ]
    }
   ],
   "source": [
    "name = input('Enter your Name: ')\n",
    "loc = input ('Enter your Location: ')\n",
    "dob = input ('Enter your Year of Birth: ')\n",
    "\n",
    "print(f'Your email ID is {name}_{dob}.{loc}@gmail.com')"
   ]
  },
  {
   "cell_type": "markdown",
   "id": "5497dc4e",
   "metadata": {},
   "source": [
    "__7. Convert the following    \n",
    "    - \"22.4\" into integer  \n",
    "    - \"22\" into complex number__"
   ]
  },
  {
   "cell_type": "code",
   "execution_count": 7,
   "id": "33168b9e",
   "metadata": {},
   "outputs": [
    {
     "name": "stdout",
     "output_type": "stream",
     "text": [
      "Input 1: 22.4 of type: <class 'str'>. Output 1: 22 of type: <class 'int'>\n",
      "Input 2: 22 of type: <class 'str'>. Output 2: (22+0j) of type: <class 'complex'>\n"
     ]
    }
   ],
   "source": [
    "inp1,inp2 = \"22.4\",\"22\"\n",
    "out1,out2 = int(float(inp1)),complex(inp2)\n",
    "print(f\"Input 1: {inp1} of type: {type(inp1)}. Output 1: {out1} of type: {type(out1)}\")\n",
    "print(f\"Input 2: {inp2} of type: {type(inp2)}. Output 2: {out2} of type: {type(out2)}\")"
   ]
  },
  {
   "cell_type": "code",
   "execution_count": null,
   "id": "9d733a43",
   "metadata": {},
   "outputs": [],
   "source": []
  }
 ],
 "metadata": {
  "kernelspec": {
   "display_name": "Python 3 (ipykernel)",
   "language": "python",
   "name": "python3"
  },
  "language_info": {
   "codemirror_mode": {
    "name": "ipython",
    "version": 3
   },
   "file_extension": ".py",
   "mimetype": "text/x-python",
   "name": "python",
   "nbconvert_exporter": "python",
   "pygments_lexer": "ipython3",
   "version": "3.8.13"
  }
 },
 "nbformat": 4,
 "nbformat_minor": 5
}
