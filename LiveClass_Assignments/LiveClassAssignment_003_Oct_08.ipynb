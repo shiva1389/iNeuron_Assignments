{
 "cells": [
  {
   "cell_type": "markdown",
   "metadata": {
    "id": "cyOfbWCdOjEr"
   },
   "source": [
    "# ASSIGNMENTS - Compulsory\n",
    "## Send it before 0000 hrs IST or 12 AM Wednesday\n",
    "\n",
    "## NOTE: Evaluation will be done before next class.\n",
    "\n",
    "## HOW TO SUBMIT: -\n",
    "Download this notebook, Solve it and upload in the google form given in the mail."
   ]
  },
  {
   "cell_type": "markdown",
   "metadata": {
    "id": "GT4IytkJMNa-"
   },
   "source": [
    "## Python String Manipulation\n"
   ]
  },
  {
   "cell_type": "markdown",
   "metadata": {
    "id": "KwVni9gipNi-"
   },
   "source": [
    "**1. Count the number of times `iNeuron` appears in the string.**\n",
    "```python\n",
    "text = \"Welcome to iNeuron, You are a part of FSDS Bootcamp 2 in iNeuron. I hope you are enjoying the course by iNeuron\"\n",
    "```"
   ]
  },
  {
   "cell_type": "code",
   "execution_count": 3,
   "metadata": {},
   "outputs": [
    {
     "name": "stdout",
     "output_type": "stream",
     "text": [
      " The number of times 'iNeuron' appears in the input text is 3\n"
     ]
    }
   ],
   "source": [
    "inp_txt = \"Welcome to iNeuron, You are a part of FSDS Bootcamp 2 in iNeuron. I hope you are enjoying the course by iNeuron\"\n",
    "\n",
    "print(f\" The number of times 'iNeuron' appears in the input text is {inp_txt.count('iNeuron')}\")"
   ]
  },
  {
   "cell_type": "markdown",
   "metadata": {},
   "source": [
    "**2. Check if position `5` to `11` ends with the phrase `iNeuron.` in the string**\n",
    "```python\n",
    "txt = \"Hello, welcome to FSDS 2.0 at iNeuron.\"\n",
    "```"
   ]
  },
  {
   "cell_type": "code",
   "execution_count": 7,
   "metadata": {},
   "outputs": [
    {
     "name": "stdout",
     "output_type": "stream",
     "text": [
      "Position 5 to 11 does not end with the phrase 'iNeuron.' in the input text\n"
     ]
    }
   ],
   "source": [
    "inp_txt = \"Hello, welcome to FSDS 2.0 at iNeuron.\"\n",
    "if inp_txt[5:12].endswith('iNeuron.'):\n",
    "    print(\"Position 5 to 11 ends with the phrase 'iNeuron.' in the input text\")\n",
    "else:\n",
    "    print(\"Position 5 to 11 does not end with the phrase 'iNeuron.' in the input text\")"
   ]
  },
  {
   "cell_type": "markdown",
   "metadata": {},
   "source": [
    "**3. Write a program that takes your full name as input and displays the abbreviations of the first and middle names except the last name which is displayed as it is. For example, if your name is Sunny Bhaveen Chandra, then the output should be S.B.Chandra.**"
   ]
  },
  {
   "cell_type": "code",
   "execution_count": 10,
   "metadata": {},
   "outputs": [
    {
     "name": "stdout",
     "output_type": "stream",
     "text": [
      "Enter your full name:Pandurangi Nag Venkat Parthasarthi Prasad\n",
      "P.N.V.P.Prasad.\n"
     ]
    }
   ],
   "source": [
    "inp_txt = input(\"Enter your full name:\")\n",
    "\n",
    "names = inp_txt.split(\" \")\n",
    "\n",
    "out_txt = ''\n",
    "\n",
    "for i in range(len(names)):\n",
    "    if i == len(names) - 1:\n",
    "        out_txt = out_txt + names[i] + '.'\n",
    "    else:\n",
    "        out_txt = out_txt + names[i][0] + '.'\n",
    "        \n",
    "print(out_txt)\n",
    "    \n",
    "    "
   ]
  },
  {
   "cell_type": "markdown",
   "metadata": {},
   "source": [
    "**4. Join all items in a list into a string, using a hash(`#`) character as separator:**\n",
    "```python\n",
    "LIST = [\"My\", \"name\", \"is\", \"Rishav\", \"Dash\"]\n",
    "```"
   ]
  },
  {
   "cell_type": "code",
   "execution_count": 11,
   "metadata": {},
   "outputs": [
    {
     "name": "stdout",
     "output_type": "stream",
     "text": [
      "My#name#is#Rishav#Dash\n"
     ]
    }
   ],
   "source": [
    "inp_lst = [\"My\", \"name\", \"is\", \"Rishav\", \"Dash\"]\n",
    "\n",
    "print('#'.join(inp_lst))"
   ]
  },
  {
   "cell_type": "markdown",
   "metadata": {},
   "source": [
    "**5. Write example for the following string manipulation function,**\n",
    "\n",
    "  ```\n",
    "  - isdecimal()\n",
    "  - islower()\n",
    "  - isupper()\n",
    "  - isalpha()\n",
    "  - isnumeric()\n",
    "\n",
    "  ```"
   ]
  },
  {
   "cell_type": "code",
   "execution_count": 28,
   "metadata": {},
   "outputs": [
    {
     "name": "stdout",
     "output_type": "stream",
     "text": [
      "\n",
      "3.145 is decimal (False)\n",
      "3145 is decimal (True)\n",
      "this is lowercase (True)\n",
      "THIS IS UPPER CASE (True)\n",
      "3.145 is numeric (False)\n",
      "81 is numeric (True)\n",
      "ABC is alpahbetized (True)\n",
      "\n"
     ]
    }
   ],
   "source": [
    "print(f\"\"\"\n",
    "3.145 is decimal ({'3.145'.isdecimal()})\n",
    "3145 is decimal ({'3145'.isdecimal()})\n",
    "this is lowercase ({'this is lowercase'.islower()})\n",
    "THIS IS UPPER CASE ({'THIS IS UPPERCASE'.isupper()})\n",
    "3.145 is numeric ({'3.145'.isnumeric()})\n",
    "81 is numeric ({'81'.isnumeric()})\n",
    "ABC is alpahbetized ({'ABC'.isalpha()})\n",
    "\"\"\")\n"
   ]
  },
  {
   "cell_type": "markdown",
   "metadata": {},
   "source": [
    "**6. Indian PAN card format follows the following formats - \n",
    "    - `AYEPC7894X`\n",
    "    - `ABCDE9999Y`\n",
    "  Take user input for PAN_CARD and validate as per the above example.**"
   ]
  },
  {
   "cell_type": "code",
   "execution_count": 34,
   "metadata": {},
   "outputs": [
    {
     "name": "stdout",
     "output_type": "stream",
     "text": [
      "Enter your PAN Card number:qewr3avhb5\n",
      "Entered PAN is invalid\n"
     ]
    }
   ],
   "source": [
    "pan_card = input(\"Enter your PAN Card number:\")\n",
    "\n",
    "pan_card = pan_card.upper()\n",
    "\n",
    "if pan_card[0:5].isalpha() and pan_card[5:9].isdecimal() and pan_card[9].isalpha() and len(pan_card) == 10:\n",
    "    print(\"Entered PAN number is valid\")\n",
    "else:\n",
    "    print(\"Entered PAN is invalid\")"
   ]
  },
  {
   "cell_type": "code",
   "execution_count": null,
   "metadata": {},
   "outputs": [],
   "source": []
  }
 ],
 "metadata": {
  "colab": {
   "collapsed_sections": [],
   "provenance": []
  },
  "kernelspec": {
   "display_name": "Python 3 (ipykernel)",
   "language": "python",
   "name": "python3"
  },
  "language_info": {
   "codemirror_mode": {
    "name": "ipython",
    "version": 3
   },
   "file_extension": ".py",
   "mimetype": "text/x-python",
   "name": "python",
   "nbconvert_exporter": "python",
   "pygments_lexer": "ipython3",
   "version": "3.8.13"
  }
 },
 "nbformat": 4,
 "nbformat_minor": 1
}
