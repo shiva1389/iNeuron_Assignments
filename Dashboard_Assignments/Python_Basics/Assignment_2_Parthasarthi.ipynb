{
 "cells": [
  {
   "cell_type": "markdown",
   "metadata": {},
   "source": [
    "**1.What are the two values of the Boolean data type? How do you write them?**"
   ]
  },
  {
   "cell_type": "markdown",
   "metadata": {},
   "source": [
    "**ANS:** *The two values of Boolean data type are True & False. They are written as “True” and “False”*"
   ]
  },
  {
   "cell_type": "markdown",
   "metadata": {},
   "source": [
    "**2. What are the three different types of Boolean operators?**"
   ]
  },
  {
   "cell_type": "markdown",
   "metadata": {},
   "source": [
    "**ANS:** *The 3 different Boolean operators are “And (and)”, “Or (or)” and “Not (not)”.*"
   ]
  },
  {
   "cell_type": "markdown",
   "metadata": {},
   "source": [
    "**3. Make a list of each Boolean operator's truth tables (i.e. every possible combination of Boolean values for the operator and what it evaluate ).**"
   ]
  },
  {
   "cell_type": "markdown",
   "metadata": {},
   "source": [
    "**ANS:**\n",
    "> *AND operator (and):*\n",
    "- *True and True = True*\n",
    "- *True and False = False*\n",
    "- *False and True = False*\n",
    "- *False and False = False*\n",
    "\n",
    "> *OR operator (or):*\n",
    "- *True or True = True*\n",
    "- *True or False = True*\n",
    "- *False or True = True*\n",
    "- *False or False = False*\n",
    "\n",
    "> *NOT operator (not):*\n",
    "- *not True = False*\n",
    "- *not False = True*\n"
   ]
  },
  {
   "cell_type": "markdown",
   "metadata": {},
   "source": [
    "**4. What are the values of the following expressions?**"
   ]
  },
  {
   "cell_type": "markdown",
   "metadata": {},
   "source": [
    "**ANS:**\n",
    "- **(5 > 4) and (3 == 5) ->** *False*\n",
    "- **not (5 > 4) ->** *False*\n",
    "- **(5 > 4) or (3 == 5) ->** *True*\n",
    "- **not ((5 > 4) or (3 == 5)) ->** *False*\n",
    "- **(True and True) and (True == False) ->** *False*\n",
    "- **(not False) or (not True) ->** *True*\n"
   ]
  },
  {
   "cell_type": "markdown",
   "metadata": {},
   "source": [
    "**5. What are the six comparison operators?**"
   ]
  },
  {
   "cell_type": "markdown",
   "metadata": {},
   "source": [
    "**ANS:**\n",
    "- *Equal to (==)*\n",
    "- *Not equal to (!=)*\n",
    "- *Greater than (>)*\n",
    "- *Less than (<)*\n",
    "- *Greater than or equal to (>=)*\n",
    "- *Less than or equal to (<=)*\n"
   ]
  },
  {
   "cell_type": "markdown",
   "metadata": {},
   "source": [
    "**6. How do you tell the difference between the equal to and assignment operators? Describe a condition and when you would use one.**"
   ]
  },
  {
   "cell_type": "markdown",
   "metadata": {},
   "source": [
    "**ANS:** *Equal to operator (==) is used to compare if two values are equal whereas the assignment operator (=) is used to assign any value to a variable. Equal to operator is denoted with two “=” signs whereas assignment operator has a single “=” sign.*"
   ]
  },
  {
   "cell_type": "code",
   "execution_count": 1,
   "metadata": {},
   "outputs": [
    {
     "name": "stdout",
     "output_type": "stream",
     "text": [
      "yay!\n"
     ]
    }
   ],
   "source": [
    "A = 5   #assigning variable “A” a value 5 using assignment operator\n",
    "if A == 5:     #checking if the value stored in variable “A” is 5 or not using Equal to operator\n",
    "    print(\"yay!\")"
   ]
  },
  {
   "cell_type": "markdown",
   "metadata": {},
   "source": [
    "**7. Identify the three blocks in this code:**"
   ]
  },
  {
   "cell_type": "code",
   "execution_count": 2,
   "metadata": {},
   "outputs": [
    {
     "name": "stdout",
     "output_type": "stream",
     "text": [
      "ham\n",
      "spam\n",
      "spam\n"
     ]
    }
   ],
   "source": [
    "spam = 0            # Block 1\n",
    "\n",
    "if spam == 10:      # Block 2\n",
    "    print('eggs')\n",
    "if spam > 5:        \n",
    "    print('bacon')\n",
    "else:               \n",
    "    print('ham') \n",
    "\n",
    "print('spam')       # Block 3\n",
    "print('spam')\n"
   ]
  },
  {
   "cell_type": "markdown",
   "metadata": {},
   "source": [
    "**8. Write code that prints Hello if 1 is stored in spam, prints Howdy if 2 is stored in spam, and prints Greetings! if anything else is stored in spam.**"
   ]
  },
  {
   "cell_type": "code",
   "execution_count": 3,
   "metadata": {},
   "outputs": [
    {
     "name": "stdout",
     "output_type": "stream",
     "text": [
      "Greetings!\n"
     ]
    }
   ],
   "source": [
    "spam = int(input(\"Enter value of spam: \"))\n",
    "if spam == 1:\n",
    "    print('Hello')\n",
    "elif spam == 2:\n",
    "    print('Howdy')\n",
    "else:\n",
    "    print('Greetings!')\n"
   ]
  },
  {
   "cell_type": "markdown",
   "metadata": {},
   "source": [
    "**9.If your programme is stuck in an endless loop, what keys you’ll press?**"
   ]
  },
  {
   "cell_type": "markdown",
   "metadata": {},
   "source": [
    "**ANS:** *Ctrl + C (Windows)*"
   ]
  },
  {
   "cell_type": "markdown",
   "metadata": {},
   "source": [
    "**10. How can you tell the difference between break and continue?**"
   ]
  },
  {
   "cell_type": "markdown",
   "metadata": {},
   "source": [
    "**ANS:** *The “break” statement is used to exit the current loop entirely, while the “continue” statement is used to skip the current iteration of the loop and move to the next iteration.*"
   ]
  },
  {
   "cell_type": "markdown",
   "metadata": {},
   "source": [
    "**11. In a for loop, what is the difference between range(10), range(0, 10), and range(0, 10, 1)?**"
   ]
  },
  {
   "cell_type": "markdown",
   "metadata": {},
   "source": [
    "**ANS:** *Practically there is no difference. All 3 expressions give the same output between 0-9*"
   ]
  },
  {
   "cell_type": "markdown",
   "metadata": {},
   "source": [
    "**12. Write a short program that prints the numbers 1 to 10 using a for loop. Then write an equivalent program that prints the numbers 1 to 10 using a while loop.**"
   ]
  },
  {
   "cell_type": "code",
   "execution_count": 4,
   "metadata": {},
   "outputs": [
    {
     "name": "stdout",
     "output_type": "stream",
     "text": [
      "1\n",
      "2\n",
      "3\n",
      "4\n",
      "5\n",
      "6\n",
      "7\n",
      "8\n",
      "9\n",
      "10\n"
     ]
    }
   ],
   "source": [
    "for i in range(1,11):\n",
    "    print(i)\n"
   ]
  },
  {
   "cell_type": "code",
   "execution_count": 5,
   "metadata": {},
   "outputs": [
    {
     "name": "stdout",
     "output_type": "stream",
     "text": [
      "1\n",
      "2\n",
      "3\n",
      "4\n",
      "5\n",
      "6\n",
      "7\n",
      "8\n",
      "9\n",
      "10\n"
     ]
    }
   ],
   "source": [
    "k = 0\n",
    "while(True):\n",
    "    if k < 10:\n",
    "        k = k+1\n",
    "        print(k)\n",
    "    else:\n",
    "        break\n"
   ]
  },
  {
   "cell_type": "markdown",
   "metadata": {},
   "source": [
    "**13. If you had a function named bacon() inside a module named spam, how would you call it after importing spam?**"
   ]
  },
  {
   "cell_type": "code",
   "execution_count": null,
   "metadata": {},
   "outputs": [],
   "source": [
    "import spam\n",
    "spam.bacon()"
   ]
  }
 ],
 "metadata": {
  "kernelspec": {
   "display_name": "base",
   "language": "python",
   "name": "python3"
  },
  "language_info": {
   "codemirror_mode": {
    "name": "ipython",
    "version": 3
   },
   "file_extension": ".py",
   "mimetype": "text/x-python",
   "name": "python",
   "nbconvert_exporter": "python",
   "pygments_lexer": "ipython3",
   "version": "3.8.13"
  },
  "orig_nbformat": 4
 },
 "nbformat": 4,
 "nbformat_minor": 2
}
